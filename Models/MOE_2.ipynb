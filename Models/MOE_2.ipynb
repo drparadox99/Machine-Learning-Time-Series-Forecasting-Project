{
 "cells": [
  {
   "cell_type": "code",
   "execution_count": 25,
   "id": "8443e7d1888e2683",
   "metadata": {
    "ExecuteTime": {
     "end_time": "2024-04-08T13:03:11.309909Z",
     "start_time": "2024-04-08T13:03:11.298021Z"
    }
   },
   "outputs": [],
   "source": [
    "\n",
    "#for displaying figures in code editor\n",
    "#%matplotlib inline\n",
    "import matplotlib.pyplot as plt\n",
    "from time import perf_counter\n",
    "import numpy as np\n",
    "import torch\n",
    "import torch.nn as nn\n",
    "import torch.nn.functional as F\n",
    "import torch.nn\n",
    "import random\n",
    "\n",
    "\n"
   ]
  },
  {
   "cell_type": "code",
   "execution_count": 26,
   "outputs": [],
   "source": [
    "\n",
    "class FeedForward(nn.Module):\n",
    "    def __init__(self, n_embed):\n",
    "        super().__init__()\n",
    "        self.net = nn.Sequential(\n",
    "            nn.Linear(n_embed, 4* n_embed),\n",
    "            nn.ReLU(),\n",
    "            nn.Linear(4 * n_embed, n_embed),\n",
    "         nn.Dropout(0.2))\n",
    "        \n",
    "    def forward(self, x):\n",
    "        return self.net(x)\n",
    "        \n",
    "class MoeLayer(nn.Module):\n",
    "    def __init__(self, experts, gate, k):\n",
    "        super().__init__()\n",
    "        assert len(experts) > 0\n",
    "        self.experts = nn.ModuleList(experts)\n",
    "        self.gate = gate\n",
    "        self.k = k\n",
    "\n",
    "    def forward(self, inputs: torch.Tensor):\n",
    "        inputs_squashed = inputs.view(-1, inputs.shape[-1])\n",
    "        gate_logits = self.gate(inputs_squashed)\n",
    "        weights, selected_experts = torch.topk(\n",
    "            gate_logits, self.k\n",
    "        )\n",
    "        weights = nn.functional.softmax(\n",
    "            weights,\n",
    "            dim=1,\n",
    "            dtype=torch.float,\n",
    "        ).type_as(inputs)\n",
    "        results = torch.zeros_like(inputs_squashed)\n",
    "        for i, expert in enumerate(self.experts):\n",
    "            batch_idx, nth_expert = torch.where(selected_experts == i)\n",
    "            results[batch_idx] += weights[batch_idx, nth_expert, None] * expert(\n",
    "                inputs_squashed[batch_idx]\n",
    "            )\n",
    "        return results.view_as(inputs)\n",
    "     "
   ],
   "metadata": {
    "collapsed": false,
    "ExecuteTime": {
     "end_time": "2024-04-08T13:03:11.328143Z",
     "start_time": "2024-04-08T13:03:11.310144Z"
    }
   },
   "id": "4494eb6243b1e706"
  },
  {
   "cell_type": "code",
   "execution_count": 27,
   "outputs": [],
   "source": [
    "num_experts = 4\n",
    "top_k = 2\n",
    "n_embd = 16\n",
    "dropout=0.1\n",
    "\n",
    "mh_output = torch.randn(4, 8, n_embd)  # Example multi-head attention output"
   ],
   "metadata": {
    "collapsed": false,
    "ExecuteTime": {
     "end_time": "2024-04-08T13:03:11.328313Z",
     "start_time": "2024-04-08T13:03:11.321151Z"
    }
   },
   "id": "fa20ed9d9dc84301"
  },
  {
   "cell_type": "code",
   "execution_count": 28,
   "outputs": [],
   "source": [
    "moe = MoeLayer(\n",
    "            experts=[FeedForward(n_embd) for _ in range(num_experts)],\n",
    "            gate=nn.Linear(n_embd, num_experts, bias=False),k=1\n",
    "        )"
   ],
   "metadata": {
    "collapsed": false,
    "ExecuteTime": {
     "end_time": "2024-04-08T13:03:11.344506Z",
     "start_time": "2024-04-08T13:03:11.326631Z"
    }
   },
   "id": "c6fc7d3b7b6efc74"
  },
  {
   "cell_type": "code",
   "execution_count": 30,
   "outputs": [
    {
     "data": {
      "text/plain": "torch.Size([4, 8, 16])"
     },
     "execution_count": 30,
     "metadata": {},
     "output_type": "execute_result"
    }
   ],
   "source": [
    "moe(mh_output).shape"
   ],
   "metadata": {
    "collapsed": false,
    "ExecuteTime": {
     "end_time": "2024-04-08T13:03:21.343005Z",
     "start_time": "2024-04-08T13:03:21.326185Z"
    }
   },
   "id": "3e3a78a2722c59a2"
  },
  {
   "cell_type": "code",
   "execution_count": null,
   "outputs": [],
   "source": [],
   "metadata": {
    "collapsed": false
   },
   "id": "1988aa2dff5ecd97"
  }
 ],
 "metadata": {
  "accelerator": "GPU",
  "colab": {
   "gpuType": "T4",
   "provenance": []
  },
  "kernelspec": {
   "display_name": "ML",
   "language": "python",
   "name": "python3"
  },
  "language_info": {
   "codemirror_mode": {
    "name": "ipython",
    "version": 3
   },
   "file_extension": ".py",
   "mimetype": "text/x-python",
   "name": "python",
   "nbconvert_exporter": "python",
   "pygments_lexer": "ipython3",
   "version": "3.9.13"
  }
 },
 "nbformat": 4,
 "nbformat_minor": 5
}
